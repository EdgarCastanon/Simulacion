{
  "nbformat": 4,
  "nbformat_minor": 0,
  "metadata": {
    "colab": {
      "provenance": [],
      "authorship_tag": "ABX9TyPl+/NfREN9NKJ6v+CTas2n",
      "include_colab_link": true
    },
    "kernelspec": {
      "name": "python3",
      "display_name": "Python 3"
    },
    "language_info": {
      "name": "python"
    }
  },
  "cells": [
    {
      "cell_type": "markdown",
      "metadata": {
        "id": "view-in-github",
        "colab_type": "text"
      },
      "source": [
        "<a href=\"https://colab.research.google.com/github/EdgarCastanon/Simulacion/blob/main/Unidad2/Generaci%C3%B3n_de_N%C3%BAmeros_Aleatorios_en_Python.ipynb\" target=\"_parent\"><img src=\"https://colab.research.google.com/assets/colab-badge.svg\" alt=\"Open In Colab\"/></a>"
      ]
    },
    {
      "cell_type": "markdown",
      "source": [
        "# **Generación de Números Aleatorios en Python**\n",
        "\n",
        "## **SCD1022 SIMULACION**\n",
        "\n",
        "### **EDGAR AILTON CASTAÑÓN GALVÁN**\n",
        "\n",
        "---\n",
        "\n",
        "**Nombre del alumno:** *Edgar Ailton Castañón Galván*  \n",
        "**Número de Control:** *23040991*  \n",
        "**Fecha:** [26/02/2025]  \n",
        "**Curso:** *SCD1022 SIMULACION*  \n",
        "**Institución:** *Instituto Tecnológico de Durango*  \n",
        "**Profesor:** *José Rivas*\n",
        "\n",
        "---\n",
        "\n",
        "### **Descripción**\n",
        "Este notebook implementa dos métodos clásicos para la generación de números pseudoaleatorios:\n",
        "\n",
        "- **Método de Centros al Cuadrado**: Propuesto por John von Neumann, utiliza la extracción de dígitos centrales de un número al elevarlo al cuadrado.\n",
        "- **Método de Medios Cuadrados**: Utiliza dos semillas y toma los valores centrales del producto de ambas.\n",
        "\n",
        "El objetivo de este trabajo es analizar la calidad de los números generados y evaluar su distribución.\n",
        "\n",
        "---\n",
        "\n",
        "### **Instrucciones de Uso**\n",
        "Ejecuta las celdas en orden para obtener los números aleatorios generados por ambos métodos. Se recomienda ajustar las semillas para observar diferentes resultados.\n"
      ],
      "metadata": {
        "id": "i_EmQ0LykdR6"
      }
    },
    {
      "cell_type": "code",
      "execution_count": 1,
      "metadata": {
        "colab": {
          "base_uri": "https://localhost:8080/"
        },
        "id": "fvuh0d9ukMPM",
        "outputId": "112dbdd2-a8f1-4b56-e514-313d253f51b6"
      },
      "outputs": [
        {
          "output_type": "stream",
          "name": "stdout",
          "text": [
            "Números generados por el método de centros al cuadrado:\n",
            "[0.9246, 0.4885, 0.8632, 0.5114, 0.1529, 0.3378, 0.4108, 0.8756, 0.6675, 0.5556, 0.8691, 0.5334, 0.4515, 0.3852, 0.8379, 0.2076, 0.3097, 0.5914, 0.9753, 0.121, 0.4641, 0.5388, 0.0305, 0.093, 0.8649, 0.8052, 0.8347, 0.6724, 0.2121, 0.4986, 0.8601, 0.9772, 0.4919, 0.1965, 0.8612, 0.1665, 0.7722, 0.6292, 0.5892, 0.7156, 0.2083, 0.3388, 0.4785, 0.8962, 0.3174, 0.0742, 0.5505, 0.305, 0.3025, 0.1506, 0.268, 0.1824, 0.3269, 0.6863, 0.1007, 0.014, 0.0196, 0.0384, 0.1474, 0.1726, 0.979, 0.8441, 0.2504, 0.27, 0.29, 0.41, 0.81, 0.61, 0.21, 0.41, 0.81, 0.61, 0.21, 0.41, 0.81, 0.61, 0.21, 0.41, 0.81, 0.61, 0.21, 0.41, 0.81, 0.61, 0.21, 0.41, 0.81, 0.61, 0.21, 0.41, 0.81, 0.61, 0.21, 0.41, 0.81, 0.61, 0.21, 0.41, 0.81, 0.61]\n",
            "\n",
            "Números generados por el método de medios cuadrados:\n",
            "[0.0066, 0.3747, 0.2473, 0.2663, 0.5855, 0.5918, 0.6498, 0.4551, 0.5723, 0.0453, 0.5925, 0.684, 0.527, 0.0468, 0.4663, 0.1822, 0.4959, 0.0352, 0.7455, 0.6241, 0.5266, 0.8651, 0.5561, 0.1082, 0.017, 0.1839, 0.3126, 0.7487, 0.4043, 0.2699, 0.912, 0.6148, 0.0697, 0.2851, 0.9871, 0.1422, 0.0365, 0.519, 0.8943, 0.4141, 0.0329, 0.3623, 0.1919, 0.9525, 0.2784, 0.5176, 0.4099, 0.2164, 0.8702, 0.8311, 0.3223, 0.7863, 0.3424, 0.9229, 0.6, 0.374, 0.44, 0.456, 0.064, 0.9184, 0.8777, 0.6079, 0.3553, 0.5986, 0.2682, 0.0544, 0.459, 0.4969, 0.8077, 0.1346, 0.8716, 0.7317, 0.7749, 0.6994, 0.1965, 0.7432, 0.6038, 0.8744, 0.7962, 0.6197, 0.3405, 0.1007, 0.4288, 0.318, 0.6358, 0.2184, 0.8858, 0.3458, 0.6309, 0.8165, 0.5129, 0.8782, 0.0428, 0.7586, 0.2468, 0.7222, 0.8238, 0.4948, 0.7616, 0.6839]\n"
          ]
        }
      ],
      "source": [
        "import random\n",
        "\n",
        "def centros_al_cuadrado(semilla, n, d):\n",
        "    numeros = []\n",
        "    for _ in range(n):\n",
        "        semilla_cuadrada = str(semilla ** 2).zfill(2 * d)\n",
        "        centro = semilla_cuadrada[len(semilla_cuadrada)//2 - d//2 : len(semilla_cuadrada)//2 + d//2]\n",
        "        semilla = int(centro)\n",
        "        numeros.append(semilla / (10**d))\n",
        "    return numeros\n",
        "\n",
        "def medios_cuadrados(semilla1, semilla2, n, d):\n",
        "    numeros = []\n",
        "    for _ in range(n):\n",
        "        producto = str(semilla1 * semilla2).zfill(2 * d)\n",
        "        centro = producto[len(producto)//2 - d//2 : len(producto)//2 + d//2]\n",
        "        nuevo_numero = int(centro)\n",
        "        numeros.append(nuevo_numero / (10**d))\n",
        "        semilla1, semilla2 = semilla2, nuevo_numero\n",
        "    return numeros\n",
        "\n",
        "# Configuración\n",
        "semilla_centros = 5738  # Debe ser un número de al menos 4 dígitos\n",
        "semilla_medios1 = 1234\n",
        "semilla_medios2 = 5678\n",
        "cantidad = 100\n",
        "digitos = 4  # Cantidad de dígitos a tomar en cuenta\n",
        "\n",
        "# Generación de números\n",
        "numeros_centros = centros_al_cuadrado(semilla_centros, cantidad, digitos)\n",
        "numeros_medios = medios_cuadrados(semilla_medios1, semilla_medios2, cantidad, digitos)\n",
        "\n",
        "# Mostrar resultados\n",
        "print(\"Números generados por el método de centros al cuadrado:\")\n",
        "print(numeros_centros)\n",
        "\n",
        "print(\"\\nNúmeros generados por el método de medios cuadrados:\")\n",
        "print(numeros_medios)\n"
      ]
    }
  ]
}