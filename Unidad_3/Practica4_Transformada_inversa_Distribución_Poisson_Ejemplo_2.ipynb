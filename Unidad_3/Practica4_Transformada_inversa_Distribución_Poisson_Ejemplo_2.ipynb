{
  "nbformat": 4,
  "nbformat_minor": 0,
  "metadata": {
    "colab": {
      "provenance": [],
      "authorship_tag": "ABX9TyNAVt+PZOL2gr0CkeR4s0H8",
      "include_colab_link": true
    },
    "kernelspec": {
      "name": "python3",
      "display_name": "Python 3"
    },
    "language_info": {
      "name": "python"
    }
  },
  "cells": [
    {
      "cell_type": "markdown",
      "metadata": {
        "id": "view-in-github",
        "colab_type": "text"
      },
      "source": [
        "<a href=\"https://colab.research.google.com/github/EdgarCastanon/Simulacion/blob/main/Unidad_3/Practica4_Transformada_inversa_Distribuci%C3%B3n_Poisson_Ejemplo_2.ipynb\" target=\"_parent\"><img src=\"https://colab.research.google.com/assets/colab-badge.svg\" alt=\"Open In Colab\"/></a>"
      ]
    },
    {
      "cell_type": "markdown",
      "source": [
        "#Transformada inversa - Distribución Poisson Ejemplo 2"
      ],
      "metadata": {
        "id": "0SGpXqtpHN9l"
      }
    },
    {
      "cell_type": "markdown",
      "source": [
        "**Nombre del alumno**: Edgar Ailton Castañón Galván  \n",
        "**Número de Control**: 23040991  \n",
        "**Fecha**: 27/03/2025  \n",
        "**Curso**: SCD1022 SIMULACION  \n",
        "**Institución**: Instituto Tecnológico de Durango  \n",
        "**Profesor**: RODRIGUEZ RIVAS JOSE GABRIEL"
      ],
      "metadata": {
        "id": "MFsKd5NDHMF3"
      }
    },
    {
      "cell_type": "code",
      "execution_count": null,
      "metadata": {
        "id": "HcGTpfSdG-zW"
      },
      "outputs": [],
      "source": [
        "import numpy as np\n",
        "import matplotlib.pyplot as plt\n",
        "import math\n",
        "\n",
        "# Parámetro de la distribución Poisson\n",
        "lambda_poisson = 5  # Tasa promedio de llegadas por hora\n",
        "\n",
        "# Generar un número aleatorio uniforme U ~ Uniform(0, 1)\n",
        "num_simulaciones = 100  # Número de simulaciones (horas)\n",
        "U = np.random.uniform(0, 1, num_simulaciones)\n",
        "\n",
        "# Función de probabilidad de la distribución Poisson\n",
        "def poisson_pmf(lambda_poisson, k):\n",
        "    return (lambda_poisson ** k) * math.exp(-lambda_poisson) / math.factorial(k)\n",
        "\n",
        "# Función para generar números aleatorios usando la transformada inversa para la Poisson\n",
        "def poisson_inverse_transform(lambda_poisson, U):\n",
        "    F_k = 0  # Inicializamos la FDA\n",
        "    k = 0\n",
        "    while True:\n",
        "        F_k += poisson_pmf(lambda_poisson, k)  # Sumamos la probabilidad hasta que F(k) >= U\n",
        "        if U <= F_k:\n",
        "            return k  # Este valor de k es el número de llegadas\n",
        "        k += 1\n",
        "\n",
        "# Generar la cantidad de clientes que llegan en cada simulación (hora)\n",
        "llegadas_simuladas = [poisson_inverse_transform(lambda_poisson, u) for u in U]\n",
        "\n",
        "# Mostrar resultados\n",
        "print(\"Número de clientes que llegaron en cada simulación (hora):\")\n",
        "print(llegadas_simuladas)\n",
        "\n",
        "# Graficar los resultados\n",
        "plt.hist(llegadas_simuladas, bins=np.arange(min(llegadas_simuladas), max(llegadas_simuladas) + 1) - 0.5, edgecolor='black')\n",
        "plt.title(\"Simulación de llegadas de clientes (Distribución Poisson)\")\n",
        "plt.xlabel(\"Número de clientes por hora\")\n",
        "plt.ylabel(\"Frecuencia\")\n",
        "plt.show()"
      ]
    }
  ]
}