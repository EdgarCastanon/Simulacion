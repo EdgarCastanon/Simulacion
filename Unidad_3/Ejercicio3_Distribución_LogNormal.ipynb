{
  "nbformat": 4,
  "nbformat_minor": 0,
  "metadata": {
    "colab": {
      "provenance": [],
      "authorship_tag": "ABX9TyM2b9jB9Z+CdMUJkRzv6/Ma",
      "include_colab_link": true
    },
    "kernelspec": {
      "name": "python3",
      "display_name": "Python 3"
    },
    "language_info": {
      "name": "python"
    }
  },
  "cells": [
    {
      "cell_type": "markdown",
      "metadata": {
        "id": "view-in-github",
        "colab_type": "text"
      },
      "source": [
        "<a href=\"https://colab.research.google.com/github/EdgarCastanon/Simulacion/blob/main/Unidad_3/Ejercicio3_Distribuci%C3%B3n_LogNormal.ipynb\" target=\"_parent\"><img src=\"https://colab.research.google.com/assets/colab-badge.svg\" alt=\"Open In Colab\"/></a>"
      ]
    },
    {
      "cell_type": "markdown",
      "source": [
        "#Problema 3: Distribución LogNormal"
      ],
      "metadata": {
        "id": "Cf7mGsbkPuf5"
      }
    },
    {
      "cell_type": "markdown",
      "source": [
        "**Nombre del alumno**: Edgar Ailton Castañón Galván  \n",
        "**Número de Control**: 23040991  \n",
        "**Fecha**: 27/03/2025  \n",
        "**Curso**: SCD1022 SIMULACION  \n",
        "**Institución**: Instituto Tecnológico de Durango  \n",
        "**Profesor**: RODRIGUEZ RIVAS JOSE GABRIEL"
      ],
      "metadata": {
        "id": "a5rxo2UaP6q4"
      }
    },
    {
      "cell_type": "markdown",
      "source": [
        "# Simulación de Tiempos de Espera en Mostrador de Servicio (Distribución LogNormal)  \n",
        "\n",
        "## Introducción  \n",
        "Este programa modela los tiempos de espera de los clientes en una tienda departamental, donde los tiempos siguen una distribución lognormal con un promedio de 10 minutos y una desviación estándar de 2 minutos.  \n",
        "\n",
        "## Objetivo  \n",
        "Simular y analizar los tiempos de espera para 50 clientes con el fin de entender la variabilidad en la duración de la fila y prever congestiones.  \n",
        "\n",
        "## Pasos del Código  \n",
        "1. **Definir Parámetros**: Se establecen la media y la desviación estándar de los tiempos de espera.  \n",
        "2. **Convertir a Parámetros LogNormales**: Se calcula `mu` y `sigma` para generar valores lognormales realistas.  \n",
        "3. **Simular Tiempos de Espera**: Se generan 50 tiempos de espera según la distribución lognormal.  \n",
        "4. **Calcular Estadísticas**: Se obtiene la media, desviación estándar, mínimo y máximo de los tiempos simulados.  \n",
        "5. **Visualización de Datos**:  \n",
        "   - **Histograma y densidad estimada**: Representa la distribución de los tiempos de espera.  \n",
        "   - **Gráfico de tiempos ordenados**: Muestra la variabilidad de los tiempos entre los clientes.  \n",
        "\n",
        "## Conclusión  \n",
        "Este modelo permite prever la duración de la fila en distintos momentos del día, facilitando la optimización de los recursos en el mostrador de servicio.  \n"
      ],
      "metadata": {
        "id": "R0mwLqY4QJQG"
      }
    },
    {
      "cell_type": "code",
      "execution_count": null,
      "metadata": {
        "id": "AkG37mV3PtfS"
      },
      "outputs": [],
      "source": [
        "import numpy as np\n",
        "import matplotlib.pyplot as plt\n",
        "import seaborn as sns\n",
        "\n",
        "# Parámetros de la distribución lognormal\n",
        "media_espera = 10  # Media en minutos\n",
        "desviacion_espera = 2  # Desviación estándar en minutos\n",
        "n_clientes = 50  # Número de clientes\n",
        "\n",
        "# Conversión a parámetros de la distribución lognormal\n",
        "mu = np.log(media_espera**2 / np.sqrt(desviacion_espera**2 + media_espera**2))\n",
        "sigma = np.sqrt(np.log(1 + (desviacion_espera**2 / media_espera**2)))\n",
        "\n",
        "# Simulación de tiempos de espera para los clientes\n",
        "tiempos_espera = np.random.lognormal(mu, sigma, n_clientes)\n",
        "\n",
        "# Cálculo de estadísticas\n",
        "media_simulada = np.mean(tiempos_espera)\n",
        "desviacion_simulada = np.std(tiempos_espera)\n",
        "tiempo_max = np.max(tiempos_espera)\n",
        "tiempo_min = np.min(tiempos_espera)\n",
        "\n",
        "# Mostrar los resultados\n",
        "print(f\"Tiempo promedio de espera simulado: {media_simulada:.2f} minutos\")\n",
        "print(f\"Desviación estándar simulada: {desviacion_simulada:.2f} minutos\")\n",
        "print(f\"Tiempo mínimo de espera: {tiempo_min:.2f} minutos\")\n",
        "print(f\"Tiempo máximo de espera: {tiempo_max:.2f} minutos\")\n",
        "\n",
        "# Configurar estilo del gráfico\n",
        "sns.set_style(\"whitegrid\")\n",
        "plt.figure(figsize=(10, 5))\n",
        "plt.hist(tiempos_espera, bins=20, color='skyblue', edgecolor='black', density=True)\n",
        "sns.kdeplot(tiempos_espera, color='red', linewidth=2, label='Densidad estimada')\n",
        "plt.xlabel('Tiempo de espera (minutos)')\n",
        "plt.ylabel('Densidad')\n",
        "plt.title('Distribución LogNormal de Tiempos de Espera en Mostrador')\n",
        "plt.legend()\n",
        "plt.show()\n",
        "\n",
        "# Gráfico de tiempos de espera ordenados\n",
        "plt.figure(figsize=(10, 5))\n",
        "plt.plot(sorted(tiempos_espera), marker='o', linestyle='-', color='blue')\n",
        "plt.xlabel('Cliente')\n",
        "plt.ylabel('Tiempo de espera (minutos)')\n",
        "plt.title('Tiempos de Espera de Clientes en el Mostrador de Servicio')\n",
        "plt.show()"
      ]
    }
  ]
}