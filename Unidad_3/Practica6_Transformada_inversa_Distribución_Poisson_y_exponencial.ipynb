{
  "nbformat": 4,
  "nbformat_minor": 0,
  "metadata": {
    "colab": {
      "provenance": [],
      "authorship_tag": "ABX9TyNuIDc4b3a4jwYUa1qI9YHR",
      "include_colab_link": true
    },
    "kernelspec": {
      "name": "python3",
      "display_name": "Python 3"
    },
    "language_info": {
      "name": "python"
    }
  },
  "cells": [
    {
      "cell_type": "markdown",
      "metadata": {
        "id": "view-in-github",
        "colab_type": "text"
      },
      "source": [
        "<a href=\"https://colab.research.google.com/github/EdgarCastanon/Simulacion/blob/main/Unidad_3/Practica6_Transformada_inversa_Distribuci%C3%B3n_Poisson_y_exponencial.ipynb\" target=\"_parent\"><img src=\"https://colab.research.google.com/assets/colab-badge.svg\" alt=\"Open In Colab\"/></a>"
      ]
    },
    {
      "cell_type": "markdown",
      "source": [
        "#Transformada inversa - Distribución Poisson y exponencial"
      ],
      "metadata": {
        "id": "DQVIAGdJIKxx"
      }
    },
    {
      "cell_type": "markdown",
      "source": [
        "**Nombre del alumno**: Edgar Ailton Castañón Galván  \n",
        "**Número de Control**: 23040991  \n",
        "**Fecha**: 27/03/2025  \n",
        "**Curso**: SCD1022 SIMULACION  \n",
        "**Institución**: Instituto Tecnológico de Durango  \n",
        "**Profesor**: RODRIGUEZ RIVAS JOSE GABRIEL"
      ],
      "metadata": {
        "id": "JdV0TgmvIQhx"
      }
    },
    {
      "cell_type": "code",
      "execution_count": null,
      "metadata": {
        "id": "ZHN_LgSsIJQH"
      },
      "outputs": [],
      "source": [
        "import numpy as np\n",
        "import matplotlib.pyplot as plt\n",
        "import math\n",
        "\n",
        "# Parámetros del modelo\n",
        "lambda_llegadas = 10  # Llegadas promedio de clientes por hora (Poisson)\n",
        "tiempo_servicio_promedio = 15  # Tiempo promedio de servicio en minutos (Exponencial)\n",
        "lambda_servicio = 1 / tiempo_servicio_promedio  # Tasa para la distribución exponencial\n",
        "\n",
        "# Generar llegadas de clientes usando la distribución Poisson (transformada inversa)\n",
        "def poisson_inverse_transform(lambda_poisson, U):\n",
        "    F_k = 0  # Inicializamos la FDA\n",
        "    k = 0\n",
        "    while True:\n",
        "        F_k += (lambda_poisson ** k) * math.exp(-lambda_poisson) / math.factorial(k)\n",
        "        if U <= F_k:\n",
        "            return k\n",
        "        k += 1\n",
        "\n",
        "# Generar tiempos de servicio usando la distribución Exponencial (transformada inversa)\n",
        "def exponencial_inverse_transform(lambda_servicio, U):\n",
        "    return -math.log(1 - U) / lambda_servicio\n",
        "\n",
        "# Simulación de 8 horas en la tienda departamental\n",
        "num_horas = 8\n",
        "num_simulaciones = 100  # Número de simulaciones\n",
        "llegadas_simuladas = []\n",
        "servicios_simulados = []\n",
        "\n",
        "# Simulamos para cada hora\n",
        "for _ in range(num_horas):\n",
        "    # Generamos un número de clientes por hora (Poisson)\n",
        "    U_llegadas = np.random.uniform(0, 1, num_simulaciones)\n",
        "    llegadas_hora = [poisson_inverse_transform(lambda_llegadas, u) for u in U_llegadas]\n",
        "    llegadas_simuladas.extend(llegadas_hora)\n",
        "\n",
        "    # Generamos los tiempos de servicio para cada cliente (Exponencial)\n",
        "    U_servicio = np.random.uniform(0, 1, len(llegadas_hora))\n",
        "    tiempos_servicio = [exponencial_inverse_transform(lambda_servicio, u) for u in U_servicio]\n",
        "    servicios_simulados.extend(tiempos_servicio)\n",
        "\n",
        "# Mostrar resultados\n",
        "print(\"Llegadas simuladas por hora:\")\n",
        "print(llegadas_simuladas)\n",
        "print(\"Tiempos de servicio (en minutos) simulados:\")\n",
        "print(servicios_simulados)\n",
        "\n",
        "# Graficar los resultados\n",
        "plt.figure(figsize=(10, 5))\n",
        "\n",
        "# Graficar llegadas\n",
        "plt.subplot(1, 2, 1)\n",
        "plt.hist(llegadas_simuladas, bins=range(0, max(llegadas_simuladas)+1), edgecolor='black')\n",
        "plt.title(\"Distribución de llegadas de clientes (Poisson)\")\n",
        "plt.xlabel(\"Número de clientes por hora\")\n",
        "plt.ylabel(\"Frecuencia\")\n",
        "\n",
        "# Graficar tiempos de servicio\n",
        "plt.subplot(1, 2, 2)\n",
        "plt.hist(servicios_simulados, bins=30, edgecolor='black')\n",
        "plt.title(\"Distribución de tiempos de servicio (Exponencial)\")\n",
        "plt.xlabel(\"Tiempo de servicio (minutos)\")\n",
        "plt.ylabel(\"Frecuencia\")\n",
        "\n",
        "plt.tight_layout()\n",
        "plt.show()"
      ]
    }
  ]
}