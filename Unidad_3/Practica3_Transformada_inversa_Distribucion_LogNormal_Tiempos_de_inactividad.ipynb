{
  "nbformat": 4,
  "nbformat_minor": 0,
  "metadata": {
    "colab": {
      "provenance": [],
      "authorship_tag": "ABX9TyOnrHiQpulPI/F1zaNLfVbP",
      "include_colab_link": true
    },
    "kernelspec": {
      "name": "python3",
      "display_name": "Python 3"
    },
    "language_info": {
      "name": "python"
    }
  },
  "cells": [
    {
      "cell_type": "markdown",
      "metadata": {
        "id": "view-in-github",
        "colab_type": "text"
      },
      "source": [
        "<a href=\"https://colab.research.google.com/github/EdgarCastanon/Simulacion/blob/main/Unidad_3/Practica3_Transformada_inversa_Distribucion_LogNormal_Tiempos_de_inactividad.ipynb\" target=\"_parent\"><img src=\"https://colab.research.google.com/assets/colab-badge.svg\" alt=\"Open In Colab\"/></a>"
      ]
    },
    {
      "cell_type": "markdown",
      "source": [
        "#Transformada inversa - Distribucion LogNormal - Tiempos de inactividad"
      ],
      "metadata": {
        "id": "ZIzWy9tpE7IJ"
      }
    },
    {
      "cell_type": "markdown",
      "source": [
        "**Nombre del alumno**: Edgar Ailton Castañón Galván  \n",
        "**Número de Control**: 23040991  \n",
        "**Fecha**: 27/03/2025  \n",
        "**Curso**: SCD1022 SIMULACION  \n",
        "**Institución**: Instituto Tecnológico de Durango  \n",
        "**Profesor**: RODRIGUEZ RIVAS JOSE GABRIEL"
      ],
      "metadata": {
        "id": "JwikS0PYE3Cp"
      }
    },
    {
      "cell_type": "code",
      "execution_count": null,
      "metadata": {
        "id": "LwluYTaZEzTO"
      },
      "outputs": [],
      "source": [
        "import numpy as np\n",
        "import matplotlib.pyplot as plt\n",
        "import scipy.stats as stats\n",
        "\n",
        "# Parámetros de la distribución lognormal\n",
        "mu = 1.0   # Media de la variable logarítmica\n",
        "sigma = 0.5  # Desviación estándar de la variable logarítmica\n",
        "n = 100  # Número de variables aleatorias a generar\n",
        "\n",
        "# Generar n números aleatorios U ~ Uniform(0, 1)\n",
        "U = np.random.uniform(0, 1, n)\n",
        "\n",
        "# Transformada inversa para generar tiempos de inactividad lognormales\n",
        "Z = mu + sigma * stats.norm.ppf(U)\n",
        "T = np.exp(Z)  # Tiempos generados\n",
        "\n",
        "# Mostrar los resultados\n",
        "print(\"Tiempos de inactividad generados:\", T)\n",
        "\n",
        "# Graficar histograma de los tiempos de inactividad generados\n",
        "plt.hist(T, bins=20, edgecolor='black', density=True)\n",
        "\n",
        "# Graficar la función teórica de densidad de la distribución lognormal\n",
        "x = np.linspace(min(T), max(T), 100)\n",
        "pdf = stats.lognorm.pdf(x, sigma, scale=np.exp(mu))\n",
        "plt.plot(x, pdf, 'r', label='Distribución lognormal teórica')\n",
        "\n",
        "plt.title(\"Histograma de los tiempos de inactividad (Distribución Lognormal)\")\n",
        "plt.xlabel(\"Tiempo de inactividad\")\n",
        "plt.ylabel(\"Densidad de probabilidad\")\n",
        "plt.legend()\n",
        "plt.show()"
      ]
    }
  ]
}