{
  "nbformat": 4,
  "nbformat_minor": 0,
  "metadata": {
    "colab": {
      "provenance": [],
      "authorship_tag": "ABX9TyM8nlqNvgjJls5iPPr9MIE6",
      "include_colab_link": true
    },
    "kernelspec": {
      "name": "python3",
      "display_name": "Python 3"
    },
    "language_info": {
      "name": "python"
    }
  },
  "cells": [
    {
      "cell_type": "markdown",
      "metadata": {
        "id": "view-in-github",
        "colab_type": "text"
      },
      "source": [
        "<a href=\"https://colab.research.google.com/github/EdgarCastanon/Simulacion/blob/main/Unidad_3/Transformada_inversa_Distribucion_Exponencial_Tiempos_de_servicio.ipynb\" target=\"_parent\"><img src=\"https://colab.research.google.com/assets/colab-badge.svg\" alt=\"Open In Colab\"/></a>"
      ]
    },
    {
      "cell_type": "code",
      "execution_count": null,
      "metadata": {
        "id": "2LEvkEYs23qm"
      },
      "outputs": [],
      "source": [
        "import numpy as np\n",
        "import matplotlib.pyplot as plt\n",
        "\n",
        "# Parámetro de la distribución exponencial (tasa de servicio)\n",
        "lambda_servicio = 1 / 2  # Tiempo promedio de servicio = 2 minutos\n",
        "\n",
        "# Función para generar un tiempo de servicio\n",
        "def generar_tiempo_servicio(lambda_servicio):\n",
        "    u = np.random.uniform(0, 1)  # Generar número aleatorio uniforme\n",
        "    tiempo_servicio = -1 / lambda_servicio * np.log(1 - u)  # Aplicar transformada inversa\n",
        "    return tiempo_servicio\n",
        "\n",
        "# Generar 100 tiempos de servicio\n",
        "tiempos_servicio = [generar_tiempo_servicio(lambda_servicio) for _ in range(100)]\n",
        "\n",
        "# Mostrar los tiempos de servicio\n",
        "print(\"Tiempos de servicio generados:\", tiempos_servicio)\n",
        "\n",
        "# Graficar los tiempos de servicio simulados\n",
        "plt.hist(tiempos_servicio, bins=10, edgecolor='black', alpha=0.7)\n",
        "plt.title('Distribución de Tiempos de Servicio Simulados (Exponencial)')\n",
        "plt.xlabel('Tiempo de servicio (minutos)')\n",
        "plt.ylabel('Frecuencia')\n",
        "plt.show()"
      ]
    }
  ]
}